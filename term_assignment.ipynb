{
 "cells": [
  {
   "cell_type": "code",
   "execution_count": null,
   "id": "618f8542-c9a6-4000-9cdc-4377bffa6fb7",
   "metadata": {},
   "outputs": [],
   "source": [
    "import pandas as pd\n",
    "from sklearn.metrics.pairwise import cosine_similarity\n",
    "\n",
    "# Load item factors from S3\n",
    "item_factors = pd.read_parquet('s3://your-output-bucket/item_factors/')\n",
    "\n",
    "# Calculate cosine similarity between items\n",
    "item_similarity = cosine_similarity(item_factors['scaledFeatures'].tolist())\n",
    "\n",
    "# Create a DataFrame for similarity with book titles and ISBN\n",
    "similarity_df = pd.DataFrame(item_similarity, index=item_factors['ISBN'], columns=item_factors['ISBN'])\n",
    "\n",
    "# Function to get similar books by ISBN\n",
    "def get_similar_books(isbn, num_recommendations=5):\n",
    "    if isbn not in similarity_df.index:\n",
    "        return \"ISBN not found.\"\n",
    "    similar_books = similarity_df[isbn].sort_values(ascending=False).head(num_recommendations + 1)\n",
    "    similar_books = similar_books[1:]  # Remove the book itself from recommendations\n",
    "    return item_factors[item_factors['ISBN'].isin(similar_books.index)][['Book-Title', 'Book-Author', 'ISBN']]\n",
    "\n",
    "# Example usage\n",
    "similar_books = get_similar_books(isbn='1234567890')\n",
    "print(similar_books)\n"
   ]
  }
 ],
 "metadata": {
  "kernelspec": {
   "display_name": "conda_python3",
   "language": "python",
   "name": "conda_python3"
  },
  "language_info": {
   "codemirror_mode": {
    "name": "ipython",
    "version": 3
   },
   "file_extension": ".py",
   "mimetype": "text/x-python",
   "name": "python",
   "nbconvert_exporter": "python",
   "pygments_lexer": "ipython3",
   "version": "3.10.14"
  }
 },
 "nbformat": 4,
 "nbformat_minor": 5
}
